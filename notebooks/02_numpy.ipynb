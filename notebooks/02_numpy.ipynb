{
 "cells": [
  {
   "cell_type": "markdown",
   "id": "65b16297",
   "metadata": {},
   "source": [
    "# Episode 2: Working with NumPy Arrays\n",
    "\n",
    "NumPy is the foundation of scientific computing in Python. In this notebook, we'll learn how to work with NumPy arrays to analyze inflammation data efficiently.\n",
    "\n",
    "## Learning Objectives\n",
    "- Import and use NumPy\n",
    "- Create and manipulate NumPy arrays\n",
    "- Load data from files using NumPy\n",
    "- Perform mathematical operations on arrays\n",
    "- Calculate summary statistics\n",
    "\n",
    "## Introduction\n",
    "\n",
    "NumPy (Numerical Python) provides powerful tools for working with large arrays of data. It's much faster than regular Python lists for numerical computations."
   ]
  },
  {
   "cell_type": "markdown",
   "id": "955b90f6",
   "metadata": {},
   "source": [
    "## 1. Importing NumPy\n",
    "\n",
    "First, let's import NumPy. The standard convention is to import it as `np`:"
   ]
  },
  {
   "cell_type": "code",
   "execution_count": null,
   "id": "a5e9f81c",
   "metadata": {},
   "outputs": [],
   "source": [
    "import numpy as np\n",
    "print(\"NumPy version:\", np.__version__)"
   ]
  },
  {
   "cell_type": "markdown",
   "id": "0ba2a54b",
   "metadata": {},
   "source": [
    "## 2. Creating NumPy Arrays\n",
    "\n",
    "Let's create some arrays to represent inflammation data:"
   ]
  },
  {
   "cell_type": "code",
   "execution_count": null,
   "id": "49f5545e",
   "metadata": {},
   "outputs": [],
   "source": [
    "# Create arrays from lists\n",
    "patient_1_data = np.array([0, 1, 3, 5, 4, 2, 1, 0])\n",
    "patient_2_data = np.array([0, 2, 4, 6, 5, 3, 2, 0])\n",
    "\n",
    "print(\"Patient 1 inflammation data:\", patient_1_data)\n",
    "print(\"Patient 2 inflammation data:\", patient_2_data)\n",
    "print(\"Array type:\", type(patient_1_data))\n",
    "print(\"Data type:\", patient_1_data.dtype)"
   ]
  },
  {
   "cell_type": "code",
   "execution_count": null,
   "id": "079e5336",
   "metadata": {},
   "outputs": [],
   "source": [
    "# Create arrays with specific functions\n",
    "zeros_array = np.zeros(10)  # Array of zeros\n",
    "ones_array = np.ones(5)     # Array of ones\n",
    "range_array = np.arange(0, 10, 2)  # Array with range\n",
    "linspace_array = np.linspace(0, 1, 5)  # Array with equally spaced values\n",
    "\n",
    "print(\"Zeros array:\", zeros_array)\n",
    "print(\"Ones array:\", ones_array)\n",
    "print(\"Range array:\", range_array)\n",
    "print(\"Linspace array:\", linspace_array)"
   ]
  },
  {
   "cell_type": "markdown",
   "id": "b6f0f830",
   "metadata": {},
   "source": [
    "## 3. Array Properties\n",
    "\n",
    "NumPy arrays have many useful properties:"
   ]
  },
  {
   "cell_type": "code",
   "execution_count": null,
   "id": "23f89fd8",
   "metadata": {},
   "outputs": [],
   "source": [
    "# Array properties\n",
    "print(\"Array shape:\", patient_1_data.shape)\n",
    "print(\"Array size:\", patient_1_data.size)\n",
    "print(\"Number of dimensions:\", patient_1_data.ndim)\n",
    "print(\"Data type:\", patient_1_data.dtype)\n",
    "print(\"Item size (bytes):\", patient_1_data.itemsize)"
   ]
  },
  {
   "cell_type": "markdown",
   "id": "d219c8b2",
   "metadata": {},
   "source": [
    "## 4. Multi-dimensional Arrays\n",
    "\n",
    "Real inflammation data is often stored as 2D arrays (patients × days):"
   ]
  },
  {
   "cell_type": "code",
   "execution_count": null,
   "id": "e100859e",
   "metadata": {},
   "outputs": [],
   "source": [
    "# Create a 2D array: 3 patients × 8 days\n",
    "inflammation_data = np.array([\n",
    "    [0, 1, 3, 5, 4, 2, 1, 0],  # Patient 1\n",
    "    [0, 2, 4, 6, 5, 3, 2, 0],  # Patient 2\n",
    "    [0, 1, 2, 4, 3, 2, 1, 0]   # Patient 3\n",
    "])\n",
    "\n",
    "print(\"Inflammation data shape:\", inflammation_data.shape)\n",
    "print(\"Number of patients:\", inflammation_data.shape[0])\n",
    "print(\"Number of days:\", inflammation_data.shape[1])\n",
    "print(\"\\nInflammation data:\")\n",
    "print(inflammation_data)"
   ]
  },
  {
   "cell_type": "markdown",
   "id": "f4a91d58",
   "metadata": {},
   "source": [
    "## 5. Array Indexing and Slicing\n",
    "\n",
    "Accessing specific elements and subsets of arrays:"
   ]
  },
  {
   "cell_type": "code",
   "execution_count": null,
   "id": "e8e14022",
   "metadata": {},
   "outputs": [],
   "source": [
    "# Indexing (remember: Python uses 0-based indexing)\n",
    "print(\"First patient's data:\", inflammation_data[0])\n",
    "print(\"Patient 1, Day 3 inflammation:\", inflammation_data[0, 2])\n",
    "print(\"Patient 2, Day 5 inflammation:\", inflammation_data[1, 4])\n",
    "\n",
    "# Slicing\n",
    "print(\"\\nFirst two patients:\", inflammation_data[:2])\n",
    "print(\"All patients, first 4 days:\", inflammation_data[:, :4])\n",
    "print(\"Patient 2, days 3-6:\", inflammation_data[1, 2:6])"
   ]
  },
  {
   "cell_type": "markdown",
   "id": "119ad5bc",
   "metadata": {},
   "source": [
    "### Exercise 2.1\n",
    "Extract the inflammation data for the last patient on the last three days:"
   ]
  },
  {
   "cell_type": "code",
   "execution_count": null,
   "id": "534a2b56",
   "metadata": {},
   "outputs": [],
   "source": [
    "# Exercise 2.1 - Your code here"
   ]
  },
  {
   "cell_type": "markdown",
   "id": "4f003f56",
   "metadata": {},
   "source": [
    "## 6. Mathematical Operations\n",
    "\n",
    "NumPy allows element-wise operations on entire arrays:"
   ]
  },
  {
   "cell_type": "code",
   "execution_count": null,
   "id": "5759a134",
   "metadata": {},
   "outputs": [],
   "source": [
    "# Element-wise operations\n",
    "doubled_data = inflammation_data * 2\n",
    "celsius_to_fahrenheit = inflammation_data * 9/5 + 32  # If these were temperatures\n",
    "normalized_data = inflammation_data / np.max(inflammation_data)\n",
    "\n",
    "print(\"Original data (first patient):\")\n",
    "print(inflammation_data[0])\n",
    "print(\"\\nDoubled data (first patient):\")\n",
    "print(doubled_data[0])\n",
    "print(\"\\nNormalized data (first patient):\")\n",
    "print(normalized_data[0])"
   ]
  },
  {
   "cell_type": "code",
   "execution_count": null,
   "id": "5b5049d8",
   "metadata": {},
   "outputs": [],
   "source": [
    "# Mathematical functions\n",
    "sqrt_data = np.sqrt(inflammation_data)\n",
    "log_data = np.log(inflammation_data + 1)  # Add 1 to avoid log(0)\n",
    "exp_data = np.exp(inflammation_data / 10)  # Scale down to avoid overflow\n",
    "\n",
    "print(\"Square root of inflammation data (first patient):\")\n",
    "print(sqrt_data[0])\n",
    "print(\"\\nLog of inflammation data (first patient):\")\n",
    "print(log_data[0])"
   ]
  },
  {
   "cell_type": "markdown",
   "id": "2211d775",
   "metadata": {},
   "source": [
    "## 7. Statistical Operations\n",
    "\n",
    "NumPy provides many statistical functions:"
   ]
  },
  {
   "cell_type": "code",
   "execution_count": null,
   "id": "1506d588",
   "metadata": {},
   "outputs": [],
   "source": [
    "# Basic statistics for the entire dataset\n",
    "print(\"Dataset Statistics:\")\n",
    "print(f\"Mean inflammation: {np.mean(inflammation_data):.2f}\")\n",
    "print(f\"Standard deviation: {np.std(inflammation_data):.2f}\")\n",
    "print(f\"Minimum value: {np.min(inflammation_data)}\")\n",
    "print(f\"Maximum value: {np.max(inflammation_data)}\")\n",
    "print(f\"Median value: {np.median(inflammation_data):.2f}\")"
   ]
  },
  {
   "cell_type": "code",
   "execution_count": null,
   "id": "a2273eca",
   "metadata": {},
   "outputs": [],
   "source": [
    "# Statistics along specific axes\n",
    "# axis=0: across patients (column-wise)\n",
    "# axis=1: across days (row-wise)\n",
    "\n",
    "daily_averages = np.mean(inflammation_data, axis=0)\n",
    "patient_averages = np.mean(inflammation_data, axis=1)\n",
    "\n",
    "print(\"Daily averages (across all patients):\")\n",
    "print(daily_averages)\n",
    "print(\"\\nPatient averages (across all days):\")\n",
    "print(patient_averages)\n",
    "\n",
    "# Maximum inflammation per day\n",
    "daily_max = np.max(inflammation_data, axis=0)\n",
    "print(\"\\nDaily maximum inflammation:\")\n",
    "print(daily_max)"
   ]
  },
  {
   "cell_type": "markdown",
   "id": "9335bd6f",
   "metadata": {},
   "source": [
    "## 8. Boolean Indexing\n",
    "\n",
    "Select data based on conditions:"
   ]
  },
  {
   "cell_type": "code",
   "execution_count": null,
   "id": "08046242",
   "metadata": {},
   "outputs": [],
   "source": [
    "# Boolean conditions\n",
    "high_inflammation = inflammation_data > 3\n",
    "print(\"High inflammation (>3):\")\n",
    "print(high_inflammation)\n",
    "\n",
    "# Count high inflammation readings\n",
    "num_high_readings = np.sum(high_inflammation)\n",
    "print(f\"\\nNumber of high inflammation readings: {num_high_readings}\")\n",
    "\n",
    "# Extract values that meet condition\n",
    "high_values = inflammation_data[high_inflammation]\n",
    "print(f\"High inflammation values: {high_values}\")\n",
    "print(f\"Average of high values: {np.mean(high_values):.2f}\")"
   ]
  },
  {
   "cell_type": "code",
   "execution_count": null,
   "id": "90218cb5",
   "metadata": {},
   "outputs": [],
   "source": [
    "# Complex conditions\n",
    "moderate_inflammation = (inflammation_data >= 2) & (inflammation_data <= 4)\n",
    "extreme_values = (inflammation_data == 0) | (inflammation_data >= 5)\n",
    "\n",
    "print(f\"Moderate inflammation readings (2-4): {np.sum(moderate_inflammation)}\")\n",
    "print(f\"Extreme inflammation readings (0 or >=5): {np.sum(extreme_values)}\")"
   ]
  },
  {
   "cell_type": "markdown",
   "id": "9bca539e",
   "metadata": {},
   "source": [
    "### Exercise 2.2\n",
    "Find the percentage of readings that show no inflammation (value = 0):"
   ]
  },
  {
   "cell_type": "code",
   "execution_count": null,
   "id": "952952ce",
   "metadata": {},
   "outputs": [],
   "source": [
    "# Exercise 2.2 - Your code here"
   ]
  },
  {
   "cell_type": "markdown",
   "id": "db6cb799",
   "metadata": {},
   "source": [
    "## 9. Array Manipulation\n",
    "\n",
    "Reshape, concatenate, and split arrays:"
   ]
  },
  {
   "cell_type": "code",
   "execution_count": null,
   "id": "468ab660",
   "metadata": {},
   "outputs": [],
   "source": [
    "# Reshape arrays\n",
    "flat_data = inflammation_data.flatten()  # Convert to 1D\n",
    "reshaped_data = flat_data.reshape(4, 6)  # Reshape to 4×6\n",
    "\n",
    "print(\"Original shape:\", inflammation_data.shape)\n",
    "print(\"Flattened shape:\", flat_data.shape)\n",
    "print(\"Reshaped to 4×6:\", reshaped_data.shape)\n",
    "print(\"\\nReshaped data:\")\n",
    "print(reshaped_data)"
   ]
  },
  {
   "cell_type": "code",
   "execution_count": null,
   "id": "614504f2",
   "metadata": {},
   "outputs": [],
   "source": [
    "# Transpose arrays\n",
    "transposed_data = inflammation_data.T  # or np.transpose(inflammation_data)\n",
    "print(\"Original shape:\", inflammation_data.shape)\n",
    "print(\"Transposed shape:\", transposed_data.shape)\n",
    "print(\"\\nTransposed data (days × patients):\")\n",
    "print(transposed_data)"
   ]
  },
  {
   "cell_type": "markdown",
   "id": "bc6e8d10",
   "metadata": {},
   "source": [
    "## 10. Loading Data from Files\n",
    "\n",
    "In practice, you'll often load data from files. Let's simulate this:"
   ]
  },
  {
   "cell_type": "code",
   "execution_count": null,
   "id": "f9374fb1",
   "metadata": {},
   "outputs": [],
   "source": [
    "# Create sample data file\n",
    "sample_data = np.random.randint(0, 10, size=(5, 10))\n",
    "np.savetxt('sample_inflammation.csv', sample_data, delimiter=',', fmt='%d')\n",
    "\n",
    "# Load data from file\n",
    "loaded_data = np.loadtxt('sample_inflammation.csv', delimiter=',')\n",
    "\n",
    "print(\"Loaded data shape:\", loaded_data.shape)\n",
    "print(\"First few rows:\")\n",
    "print(loaded_data[:3, :5])  # First 3 rows, first 5 columns\n",
    "\n",
    "# Verify data matches\n",
    "print(\"\\nData loading successful:\", np.array_equal(sample_data, loaded_data))"
   ]
  },
  {
   "cell_type": "markdown",
   "id": "e84e6fcb",
   "metadata": {},
   "source": [
    "## 11. Advanced Array Operations\n",
    "\n",
    "Some useful advanced operations:"
   ]
  },
  {
   "cell_type": "code",
   "execution_count": null,
   "id": "6e72b245",
   "metadata": {},
   "outputs": [],
   "source": [
    "# Find indices of specific values\n",
    "max_indices = np.where(inflammation_data == np.max(inflammation_data))\n",
    "print(\"Indices of maximum values:\")\n",
    "print(f\"Patients: {max_indices[0]}, Days: {max_indices[1]}\")\n",
    "\n",
    "# Sorting\n",
    "sorted_patient_1 = np.sort(inflammation_data[0])\n",
    "print(f\"\\nPatient 1 data sorted: {sorted_patient_1}\")\n",
    "\n",
    "# Unique values\n",
    "unique_values = np.unique(inflammation_data)\n",
    "print(f\"Unique inflammation values: {unique_values}\")"
   ]
  },
  {
   "cell_type": "code",
   "execution_count": null,
   "id": "01ea61a5",
   "metadata": {},
   "outputs": [],
   "source": [
    "# Cumulative operations\n",
    "cumulative_sum = np.cumsum(inflammation_data[0])\n",
    "cumulative_max = np.maximum.accumulate(inflammation_data[0])\n",
    "\n",
    "print(\"Patient 1 daily inflammation:\", inflammation_data[0])\n",
    "print(\"Cumulative sum:\", cumulative_sum)\n",
    "print(\"Cumulative maximum:\", cumulative_max)"
   ]
  },
  {
   "cell_type": "markdown",
   "id": "ec45cea3",
   "metadata": {},
   "source": [
    "### Exercise 2.3\n",
    "Calculate the day-to-day change in inflammation for each patient (difference between consecutive days):"
   ]
  },
  {
   "cell_type": "code",
   "execution_count": null,
   "id": "1811fbe9",
   "metadata": {},
   "outputs": [],
   "source": [
    "# Exercise 2.3 - Your code here\n",
    "# Hint: Use np.diff() function"
   ]
  },
  {
   "cell_type": "markdown",
   "id": "84843494",
   "metadata": {},
   "source": [
    "## Summary\n",
    "\n",
    "In this episode, we learned:\n",
    "- **NumPy basics**: Importing and creating arrays\n",
    "- **Array properties**: Shape, size, dtype\n",
    "- **Indexing and slicing**: Accessing data subsets\n",
    "- **Mathematical operations**: Element-wise calculations\n",
    "- **Statistical functions**: Mean, std, min, max, median\n",
    "- **Boolean indexing**: Conditional data selection\n",
    "- **Array manipulation**: Reshape, transpose, flatten\n",
    "- **File I/O**: Loading and saving data\n",
    "\n",
    "NumPy is essential for efficient scientific computing in Python!"
   ]
  },
  {
   "cell_type": "markdown",
   "id": "6fb8d888",
   "metadata": {},
   "source": [
    "## Clean up\n",
    "\n",
    "Remove the temporary file we created:"
   ]
  },
  {
   "cell_type": "code",
   "execution_count": null,
   "id": "c472bad1",
   "metadata": {},
   "outputs": [],
   "source": [
    "import os\n",
    "if os.path.exists('sample_inflammation.csv'):\n",
    "    os.remove('sample_inflammation.csv')\n",
    "    print(\"Temporary file removed.\")"
   ]
  }
 ],
 "metadata": {
  "language_info": {
   "name": "python"
  }
 },
 "nbformat": 4,
 "nbformat_minor": 5
}
