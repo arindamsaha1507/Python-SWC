{
 "cells": [
  {
   "cell_type": "markdown",
   "id": "13f674e3",
   "metadata": {},
   "source": [
    "# Episode 5: Repeating Actions with Loops\n",
    "\n",
    "Loops allow us to repeat actions efficiently. In this notebook, we'll learn how to process inflammation data automatically using loops instead of repeating code manually.\n",
    "\n",
    "## Learning Objectives\n",
    "- Use `for` loops to iterate over sequences\n",
    "- Understand loop variables and iteration\n",
    "- Use `while` loops for conditional repetition\n",
    "- Apply loops to process inflammation data\n",
    "- Combine loops with data structures\n",
    "- Use `range()` for numerical iterations\n",
    "\n",
    "## Introduction\n",
    "\n",
    "Imagine you have inflammation data for 60 patients over 40 days. Without loops, you'd need to write the same code 2,400 times! Loops let us automate repetitive tasks efficiently."
   ]
  },
  {
   "cell_type": "markdown",
   "id": "c0948f6b",
   "metadata": {},
   "source": [
    "## 1. Basic For Loops\n",
    "\n",
    "The most common way to repeat actions in Python:"
   ]
  },
  {
   "cell_type": "code",
   "execution_count": null,
   "id": "87b58529",
   "metadata": {},
   "outputs": [],
   "source": [
    "# Simple iteration over a list\n",
    "patient_names = ['Alice', 'Bob', 'Carol', 'David', 'Eva']\n",
    "\n",
    "print(\"Processing patients:\")\n",
    "for patient in patient_names:\n",
    "    print(f\"  Analyzing data for {patient}\")\n",
    "\n",
    "print(\"\\nAnalysis complete!\")"
   ]
  },
  {
   "cell_type": "code",
   "execution_count": null,
   "id": "346ce618",
   "metadata": {},
   "outputs": [],
   "source": [
    "# Processing inflammation measurements\n",
    "daily_inflammation = [0.0, 1.5, 3.2, 4.1, 2.8, 1.9, 0.8, 0.0]\n",
    "\n",
    "print(\"Daily inflammation readings:\")\n",
    "for reading in daily_inflammation:\n",
    "    print(f\"  Reading: {reading:.1f}\")\n",
    "    if reading > 3.0:\n",
    "        print(f\"    ⚠️  High inflammation detected!\")\n",
    "    elif reading == 0.0:\n",
    "        print(f\"    ✅ No inflammation\")\n",
    "    else:\n",
    "        print(f\"    📊 Normal levels\")"
   ]
  },
  {
   "cell_type": "markdown",
   "id": "6228a7ee",
   "metadata": {},
   "source": [
    "## 2. Loops with Indices\n",
    "\n",
    "Sometimes you need both the item and its position:"
   ]
  },
  {
   "cell_type": "code",
   "execution_count": null,
   "id": "d9116d60",
   "metadata": {},
   "outputs": [],
   "source": [
    "# Using enumerate() to get index and value\n",
    "inflammation_readings = [0.0, 1.5, 3.2, 4.1, 2.8, 1.9, 0.8, 0.0]\n",
    "\n",
    "print(\"Day-by-day inflammation analysis:\")\n",
    "for day, reading in enumerate(inflammation_readings):\n",
    "    print(f\"Day {day + 1}: {reading:.1f}\")\n",
    "    \n",
    "print(f\"\\nTotal days monitored: {len(inflammation_readings)}\")"
   ]
  },
  {
   "cell_type": "code",
   "execution_count": null,
   "id": "cfc8f040",
   "metadata": {},
   "outputs": [],
   "source": [
    "# Manual indexing with range()\n",
    "temperatures = [36.5, 37.2, 38.1, 36.8, 37.5, 38.5, 36.9]\n",
    "\n",
    "print(\"Temperature monitoring:\")\n",
    "for i in range(len(temperatures)):\n",
    "    temp = temperatures[i]\n",
    "    print(f\"Measurement {i + 1}: {temp}°C\", end=\"\")\n",
    "    \n",
    "    if temp >= 38.0:\n",
    "        print(\" 🌡️ FEVER\")\n",
    "    elif temp >= 37.5:\n",
    "        print(\" ⚠️ Elevated\")\n",
    "    else:\n",
    "        print(\" ✅ Normal\")"
   ]
  },
  {
   "cell_type": "markdown",
   "id": "32b0f64f",
   "metadata": {},
   "source": [
    "## 3. The range() Function\n",
    "\n",
    "Essential for creating numerical sequences:"
   ]
  },
  {
   "cell_type": "code",
   "execution_count": null,
   "id": "dd11d83e",
   "metadata": {},
   "outputs": [],
   "source": [
    "# Basic range usage\n",
    "print(\"range(5):\", list(range(5)))\n",
    "print(\"range(2, 8):\", list(range(2, 8)))\n",
    "print(\"range(0, 10, 2):\", list(range(0, 10, 2)))\n",
    "print(\"range(10, 0, -2):\", list(range(10, 0, -2)))\n",
    "\n",
    "# Simulating patient visits\n",
    "print(\"\\nScheduling patient visits:\")\n",
    "for week in range(1, 5):\n",
    "    print(f\"Week {week}: Schedule inflammation check\")"
   ]
  },
  {
   "cell_type": "code",
   "execution_count": null,
   "id": "099f3e04",
   "metadata": {},
   "outputs": [],
   "source": [
    "# Generating sample data with loops\n",
    "import random\n",
    "random.seed(42)  # For reproducible results\n",
    "\n",
    "# Simulate 10 days of inflammation readings\n",
    "simulated_readings = []\n",
    "for day in range(10):\n",
    "    # Simulate inflammation pattern: starts low, peaks mid-way, then reduces\n",
    "    base_level = 2.0 + 3.0 * (day / 5) if day <= 5 else 2.0 + 3.0 * ((10-day) / 5)\n",
    "    noise = random.uniform(-0.5, 0.5)  # Add some random variation\n",
    "    reading = max(0.0, base_level + noise)  # Ensure non-negative\n",
    "    simulated_readings.append(round(reading, 2))\n",
    "\n",
    "print(\"Simulated inflammation pattern:\")\n",
    "for day, reading in enumerate(simulated_readings):\n",
    "    print(f\"Day {day + 1:2d}: {'█' * int(reading * 2):<20} {reading:.2f}\")"
   ]
  },
  {
   "cell_type": "markdown",
   "id": "5c6407ae",
   "metadata": {},
   "source": [
    "### Exercise 5.1\n",
    "Create a loop to:\n",
    "1. Calculate the cumulative inflammation over days\n",
    "2. Identify the day with peak inflammation\n",
    "3. Count days with inflammation above a threshold"
   ]
  },
  {
   "cell_type": "code",
   "execution_count": null,
   "id": "47a97d4c",
   "metadata": {},
   "outputs": [],
   "source": [
    "# Exercise 5.1 - Your code here\n",
    "inflammation_data = [0.5, 1.2, 2.8, 4.1, 5.2, 3.9, 2.1, 1.0, 0.5, 0.2]\n",
    "\n",
    "# 1. Cumulative inflammation\n",
    "\n",
    "# 2. Peak inflammation day\n",
    "\n",
    "# 3. Days above threshold (e.g., 3.0)"
   ]
  },
  {
   "cell_type": "markdown",
   "id": "fb5a6d83",
   "metadata": {},
   "source": [
    "## 4. Nested Loops\n",
    "\n",
    "Loops inside loops for multi-dimensional data:"
   ]
  },
  {
   "cell_type": "code",
   "execution_count": null,
   "id": "3972158f",
   "metadata": {},
   "outputs": [],
   "source": [
    "# Multi-patient inflammation data (patients × days)\n",
    "patient_data = [\n",
    "    [0.0, 1.5, 3.2, 2.8, 1.9, 0.8],  # Patient 1\n",
    "    [0.5, 2.1, 3.8, 3.1, 2.0, 0.5],  # Patient 2\n",
    "    [0.0, 1.0, 2.5, 2.2, 1.5, 0.3],  # Patient 3\n",
    "    [1.0, 2.5, 4.0, 3.5, 2.8, 1.2]   # Patient 4\n",
    "]\n",
    "\n",
    "print(\"Multi-patient inflammation analysis:\")\n",
    "print(\"Patient   Day1  Day2  Day3  Day4  Day5  Day6   Average\")\n",
    "print(\"-\" * 55)\n",
    "\n",
    "for patient_num, daily_readings in enumerate(patient_data):\n",
    "    patient_id = f\"P{patient_num + 1:03d}\"\n",
    "    average = sum(daily_readings) / len(daily_readings)\n",
    "    \n",
    "    # Print patient ID and daily readings\n",
    "    print(f\"{patient_id}    \", end=\"\")\n",
    "    for reading in daily_readings:\n",
    "        print(f\"{reading:5.1f}\", end=\" \")\n",
    "    print(f\"   {average:6.2f}\")"
   ]
  },
  {
   "cell_type": "code",
   "execution_count": null,
   "id": "1de58687",
   "metadata": {},
   "outputs": [],
   "source": [
    "# Calculate daily averages across all patients\n",
    "num_days = len(patient_data[0])  # Assume all patients have same number of days\n",
    "num_patients = len(patient_data)\n",
    "\n",
    "print(\"\\nDaily averages across all patients:\")\n",
    "for day in range(num_days):\n",
    "    daily_sum = 0\n",
    "    for patient_readings in patient_data:\n",
    "        daily_sum += patient_readings[day]\n",
    "    \n",
    "    daily_average = daily_sum / num_patients\n",
    "    print(f\"Day {day + 1}: {daily_average:.2f}\")\n",
    "\n",
    "# Same calculation using list comprehension\n",
    "print(\"\\nUsing list comprehension:\")\n",
    "for day in range(num_days):\n",
    "    daily_average = sum(patient[day] for patient in patient_data) / num_patients\n",
    "    print(f\"Day {day + 1}: {daily_average:.2f}\")"
   ]
  },
  {
   "cell_type": "markdown",
   "id": "bc7f165e",
   "metadata": {},
   "source": [
    "## 5. While Loops\n",
    "\n",
    "Repeat until a condition is met:"
   ]
  },
  {
   "cell_type": "code",
   "execution_count": null,
   "id": "b5a80a08",
   "metadata": {},
   "outputs": [],
   "source": [
    "# Monitor until inflammation drops below threshold\n",
    "inflammation_levels = [5.2, 4.8, 4.1, 3.9, 3.2, 2.8, 2.1, 1.5, 0.8]\n",
    "threshold = 2.0\n",
    "day = 0\n",
    "\n",
    "print(f\"Monitoring inflammation until it drops below {threshold}:\")\n",
    "while day < len(inflammation_levels) and inflammation_levels[day] >= threshold:\n",
    "    print(f\"Day {day + 1}: {inflammation_levels[day]:.1f} - Continue monitoring\")\n",
    "    day += 1\n",
    "\n",
    "if day < len(inflammation_levels):\n",
    "    print(f\"Day {day + 1}: {inflammation_levels[day]:.1f} - Below threshold! ✅\")\n",
    "else:\n",
    "    print(\"Monitoring period ended - inflammation still elevated ⚠️\")"
   ]
  },
  {
   "cell_type": "code",
   "execution_count": null,
   "id": "cf816f5e",
   "metadata": {},
   "outputs": [],
   "source": [
    "# Simulate drug dosage adjustment\n",
    "inflammation_level = 8.5\n",
    "dosage = 10  # mg\n",
    "target_inflammation = 2.0\n",
    "day = 0\n",
    "max_days = 10\n",
    "\n",
    "print(\"Drug dosage simulation:\")\n",
    "print(f\"Initial inflammation: {inflammation_level:.1f}, Target: {target_inflammation:.1f}\")\n",
    "print()\n",
    "\n",
    "while inflammation_level > target_inflammation and day < max_days:\n",
    "    day += 1\n",
    "    \n",
    "    # Simulate drug effect (reduces inflammation by 10-20% per day)\n",
    "    reduction_factor = 0.85 + (dosage / 1000)  # Higher dosage = more reduction\n",
    "    inflammation_level *= reduction_factor\n",
    "    \n",
    "    print(f\"Day {day}: Inflammation = {inflammation_level:.2f}, Dosage = {dosage}mg\")\n",
    "    \n",
    "    # Adjust dosage if needed\n",
    "    if inflammation_level > 5.0 and dosage < 50:\n",
    "        dosage += 5\n",
    "        print(f\"        → Increased dosage to {dosage}mg\")\n",
    "    elif inflammation_level < 3.0 and dosage > 10:\n",
    "        dosage -= 5\n",
    "        print(f\"        → Reduced dosage to {dosage}mg\")\n",
    "\n",
    "print(f\"\\nFinal result after {day} days:\")\n",
    "if inflammation_level <= target_inflammation:\n",
    "    print(f\"✅ Target achieved: {inflammation_level:.2f}\")\n",
    "else:\n",
    "    print(f\"⚠️ Target not reached: {inflammation_level:.2f}\")"
   ]
  },
  {
   "cell_type": "markdown",
   "id": "5aafc050",
   "metadata": {},
   "source": [
    "## 6. Loop Control: break and continue\n",
    "\n",
    "Control loop execution flow:"
   ]
  },
  {
   "cell_type": "code",
   "execution_count": null,
   "id": "727e737a",
   "metadata": {},
   "outputs": [],
   "source": [
    "# Using break to stop early\n",
    "inflammation_readings = [1.0, 2.5, 8.5, 4.2, 3.1, 2.0, 1.5]\n",
    "danger_threshold = 8.0\n",
    "\n",
    "print(\"Monitoring for dangerous inflammation levels:\")\n",
    "for day, reading in enumerate(inflammation_readings):\n",
    "    print(f\"Day {day + 1}: {reading:.1f}\", end=\"\")\n",
    "    \n",
    "    if reading > danger_threshold:\n",
    "        print(\" 🚨 DANGER! Stopping monitoring.\")\n",
    "        break\n",
    "    else:\n",
    "        print(\" ✅ Safe\")\n",
    "\n",
    "print(\"Monitoring stopped.\")"
   ]
  },
  {
   "cell_type": "code",
   "execution_count": null,
   "id": "96cf29ee",
   "metadata": {},
   "outputs": [],
   "source": [
    "# Using continue to skip iterations\n",
    "patient_readings = [1.5, -1.0, 3.2, 0.0, -2.5, 4.1, 2.8]  # -1.0 and -2.5 are sensor errors\n",
    "\n",
    "print(\"Processing readings (skipping sensor errors):\")\n",
    "valid_readings = []\n",
    "for day, reading in enumerate(patient_readings):\n",
    "    if reading < 0:  # Sensor error\n",
    "        print(f\"Day {day + 1}: {reading:.1f} - Sensor error, skipping\")\n",
    "        continue\n",
    "    \n",
    "    print(f\"Day {day + 1}: {reading:.1f} - Valid reading\")\n",
    "    valid_readings.append(reading)\n",
    "\n",
    "print(f\"\\nValid readings: {valid_readings}\")\n",
    "print(f\"Average of valid readings: {sum(valid_readings) / len(valid_readings):.2f}\")"
   ]
  },
  {
   "cell_type": "markdown",
   "id": "56fcddcd",
   "metadata": {},
   "source": [
    "### Exercise 5.2\n",
    "Write a loop that:\n",
    "1. Processes a list of patient data\n",
    "2. Skips patients with missing data (None values)\n",
    "3. Stops if a critical inflammation level is found\n",
    "4. Reports summary statistics"
   ]
  },
  {
   "cell_type": "code",
   "execution_count": null,
   "id": "4d20346b",
   "metadata": {},
   "outputs": [],
   "source": [
    "# Exercise 5.2 - Your code here\n",
    "patients_inflammation = [\n",
    "    ['P001', 2.1], ['P002', None], ['P003', 1.8], \n",
    "    ['P004', 9.5], ['P005', 3.2], ['P006', None], ['P007', 1.9]\n",
    "]\n",
    "critical_level = 9.0\n",
    "\n",
    "# Your solution here"
   ]
  },
  {
   "cell_type": "markdown",
   "id": "782c5d7a",
   "metadata": {},
   "source": [
    "## 7. Practical Applications\n",
    "\n",
    "Real-world examples of loops in data analysis:"
   ]
  },
  {
   "cell_type": "code",
   "execution_count": null,
   "id": "433eef27",
   "metadata": {},
   "outputs": [],
   "source": [
    "# Data cleaning and validation\n",
    "raw_data = [\n",
    "    \"1.5\", \"2.3\", \"invalid\", \"3.7\", \"\", \"4.2\", \"0.0\", \"error\", \"2.1\"\n",
    "]\n",
    "\n",
    "print(\"Cleaning inflammation data:\")\n",
    "cleaned_data = []\n",
    "errors = []\n",
    "\n",
    "for i, value in enumerate(raw_data):\n",
    "    try:\n",
    "        # Try to convert to float\n",
    "        numeric_value = float(value)\n",
    "        \n",
    "        # Validate range (inflammation can't be negative)\n",
    "        if numeric_value < 0:\n",
    "            print(f\"Position {i}: {value} → Invalid (negative)\")\n",
    "            errors.append((i, value, \"negative\"))\n",
    "        else:\n",
    "            print(f\"Position {i}: {value} → {numeric_value:.1f} ✅\")\n",
    "            cleaned_data.append(numeric_value)\n",
    "            \n",
    "    except ValueError:\n",
    "        print(f\"Position {i}: '{value}' → Invalid (not numeric)\")\n",
    "        errors.append((i, value, \"not numeric\"))\n",
    "\n",
    "print(f\"\\nCleaned data: {cleaned_data}\")\n",
    "print(f\"Errors found: {len(errors)}\")\n",
    "print(f\"Data recovery rate: {len(cleaned_data)}/{len(raw_data)} ({100*len(cleaned_data)/len(raw_data):.1f}%)\")"
   ]
  },
  {
   "cell_type": "code",
   "execution_count": null,
   "id": "b180c286",
   "metadata": {},
   "outputs": [],
   "source": [
    "# Statistical analysis with loops\n",
    "study_data = {\n",
    "    'control_group': [1.2, 1.8, 2.1, 1.5, 1.9, 2.3, 1.7],\n",
    "    'treatment_a': [0.8, 1.1, 1.5, 1.0, 1.3, 1.6, 1.2],\n",
    "    'treatment_b': [0.5, 0.9, 1.2, 0.7, 1.0, 1.1, 0.8]\n",
    "}\n",
    "\n",
    "print(\"Study Group Analysis:\")\n",
    "print(\"=\" * 50)\n",
    "\n",
    "results = {}\n",
    "for group_name, readings in study_data.items():\n",
    "    # Calculate statistics\n",
    "    n = len(readings)\n",
    "    mean = sum(readings) / n\n",
    "    min_val = min(readings)\n",
    "    max_val = max(readings)\n",
    "    \n",
    "    # Calculate standard deviation manually\n",
    "    variance = sum((x - mean)**2 for x in readings) / (n - 1)\n",
    "    std_dev = variance ** 0.5\n",
    "    \n",
    "    results[group_name] = {\n",
    "        'n': n, 'mean': mean, 'std': std_dev, \n",
    "        'min': min_val, 'max': max_val\n",
    "    }\n",
    "    \n",
    "    print(f\"{group_name.upper():15} (n={n})\")\n",
    "    print(f\"  Mean ± SD:    {mean:.2f} ± {std_dev:.2f}\")\n",
    "    print(f\"  Range:        {min_val:.2f} - {max_val:.2f}\")\n",
    "    print()\n",
    "\n",
    "# Compare groups\n",
    "print(\"Group Comparisons:\")\n",
    "control_mean = results['control_group']['mean']\n",
    "for group in ['treatment_a', 'treatment_b']:\n",
    "    treatment_mean = results[group]['mean']\n",
    "    reduction = ((control_mean - treatment_mean) / control_mean) * 100\n",
    "    print(f\"{group} vs control: {reduction:.1f}% reduction in inflammation\")"
   ]
  },
  {
   "cell_type": "markdown",
   "id": "afa8b6ea",
   "metadata": {},
   "source": [
    "## 8. Loop Performance Tips\n",
    "\n",
    "Writing efficient loops:"
   ]
  },
  {
   "cell_type": "code",
   "execution_count": null,
   "id": "37c5cc53",
   "metadata": {},
   "outputs": [],
   "source": [
    "import time\n",
    "\n",
    "# Generate large dataset for performance testing\n",
    "large_dataset = [random.uniform(0, 10) for _ in range(100000)]\n",
    "print(f\"Testing with {len(large_dataset):,} data points\")\n",
    "\n",
    "# Method 1: Basic loop\n",
    "start_time = time.time()\n",
    "sum1 = 0\n",
    "for value in large_dataset:\n",
    "    sum1 += value\n",
    "time1 = time.time() - start_time\n",
    "\n",
    "# Method 2: Built-in function\n",
    "start_time = time.time()\n",
    "sum2 = sum(large_dataset)\n",
    "time2 = time.time() - start_time\n",
    "\n",
    "# Method 3: List comprehension\n",
    "start_time = time.time()\n",
    "filtered_count = len([x for x in large_dataset if x > 5.0])\n",
    "time3 = time.time() - start_time\n",
    "\n",
    "# Method 4: Generator expression (memory efficient)\n",
    "start_time = time.time()\n",
    "filtered_count2 = sum(1 for x in large_dataset if x > 5.0)\n",
    "time4 = time.time() - start_time\n",
    "\n",
    "print(f\"\\nPerformance Results:\")\n",
    "print(f\"Loop sum:           {time1:.4f}s → {sum1:.2f}\")\n",
    "print(f\"Built-in sum:       {time2:.4f}s → {sum2:.2f}\")\n",
    "print(f\"List comprehension: {time3:.4f}s → {filtered_count} items\")\n",
    "print(f\"Generator expr:     {time4:.4f}s → {filtered_count2} items\")\n",
    "print(f\"\\nSpeedup: Built-in is {time1/time2:.1f}x faster than manual loop\")"
   ]
  },
  {
   "cell_type": "markdown",
   "id": "56e7ef5d",
   "metadata": {},
   "source": [
    "### Final Exercise 5.3\n",
    "Create a comprehensive analysis function that:\n",
    "1. Processes multiple patients' data\n",
    "2. Calculates various statistics for each patient\n",
    "3. Identifies patterns or outliers\n",
    "4. Generates a summary report"
   ]
  },
  {
   "cell_type": "code",
   "execution_count": null,
   "id": "c48c5ac0",
   "metadata": {},
   "outputs": [],
   "source": [
    "# Exercise 5.3 - Your comprehensive analysis\n",
    "# Multi-patient study data (patients × days)\n",
    "multi_patient_study = [\n",
    "    [0.0, 1.5, 3.2, 4.1, 2.8, 1.9, 0.8, 0.0],  # Patient 1\n",
    "    [0.5, 2.1, 3.8, 5.2, 3.1, 2.0, 0.5, 0.0],  # Patient 2\n",
    "    [0.0, 1.0, 2.5, 3.5, 2.2, 1.5, 0.3, 0.0],  # Patient 3\n",
    "    [1.0, 2.5, 4.0, 6.1, 3.5, 2.8, 1.2, 0.5],  # Patient 4\n",
    "    [0.2, 1.8, 3.1, 4.8, 2.9, 1.7, 0.6, 0.1],  # Patient 5\n",
    "]\n",
    "\n",
    "# Write your comprehensive analysis here\n",
    "# Include: patient summaries, daily averages, pattern detection, outlier identification"
   ]
  },
  {
   "cell_type": "markdown",
   "id": "c2fa17ae",
   "metadata": {},
   "source": [
    "## Summary\n",
    "\n",
    "In this episode, we learned:\n",
    "- **For loops**: Iterate over sequences and collections\n",
    "- **Enumerate**: Get both index and value during iteration\n",
    "- **Range**: Generate numerical sequences for loops\n",
    "- **Nested loops**: Handle multi-dimensional data\n",
    "- **While loops**: Conditional repetition until criteria met\n",
    "- **Loop control**: Use `break` and `continue` for flow control\n",
    "- **Practical applications**: Data cleaning, analysis, and validation\n",
    "- **Performance**: Choose appropriate methods for efficiency\n",
    "\n",
    "Loops are fundamental to automation and data processing in Python!"
   ]
  }
 ],
 "metadata": {
  "language_info": {
   "name": "python"
  }
 },
 "nbformat": 4,
 "nbformat_minor": 5
}
