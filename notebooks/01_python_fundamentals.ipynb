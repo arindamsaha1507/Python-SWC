{
 "cells": [
  {
   "cell_type": "markdown",
   "id": "5a4a3e92",
   "metadata": {},
   "source": [
    "# Episode 1: Python Fundamentals\n",
    "\n",
    "Welcome to the first episode of Python for scientific computing! In this notebook, we'll explore the basics of Python programming using examples from inflammation data analysis.\n",
    "\n",
    "## Learning Objectives\n",
    "- Understand Python variables and basic data types\n",
    "- Perform arithmetic operations and comparisons\n",
    "- Work with strings and basic input/output\n",
    "- Apply these concepts to scientific data analysis\n",
    "\n",
    "## Introduction\n",
    "\n",
    "Python is a powerful programming language that's widely used in scientific computing. Today we'll start with the fundamentals and apply them to analyzing inflammation data from a clinical trial."
   ]
  },
  {
   "cell_type": "markdown",
   "id": "0e2a262d",
   "metadata": {},
   "source": [
    "## 1. Variables and Assignment\n",
    "\n",
    "In Python, we can store values in variables. Let's start by creating some variables to represent patient data:"
   ]
  },
  {
   "cell_type": "code",
   "execution_count": null,
   "id": "2d280932",
   "metadata": {},
   "outputs": [],
   "source": [
    "# Variables for patient information\n",
    "patient_id = \"Patient_001\"\n",
    "patient_age = 45\n",
    "patient_weight = 70.5\n",
    "has_inflammation = True\n",
    "\n",
    "print(\"Patient Information:\")\n",
    "print(\"ID:\", patient_id)\n",
    "print(\"Age:\", patient_age)\n",
    "print(\"Weight:\", patient_weight, \"kg\")\n",
    "print(\"Has inflammation:\", has_inflammation)"
   ]
  },
  {
   "cell_type": "markdown",
   "id": "8cb328e1",
   "metadata": {},
   "source": [
    "### Exercise 1.1\n",
    "Create variables for a second patient with the following information:\n",
    "- ID: \"Patient_002\"\n",
    "- Age: 32\n",
    "- Weight: 65.8 kg\n",
    "- Has inflammation: False"
   ]
  },
  {
   "cell_type": "code",
   "execution_count": null,
   "id": "c4660839",
   "metadata": {},
   "outputs": [],
   "source": [
    "# Exercise 1.1 - Your code here"
   ]
  },
  {
   "cell_type": "markdown",
   "id": "4090ee1b",
   "metadata": {},
   "source": [
    "## 2. Data Types\n",
    "\n",
    "Python has several built-in data types. Let's explore the ones we've used:"
   ]
  },
  {
   "cell_type": "code",
   "execution_count": null,
   "id": "63c5145c",
   "metadata": {},
   "outputs": [],
   "source": [
    "# Check data types\n",
    "print(\"Data Types:\")\n",
    "print(\"patient_id type:\", type(patient_id))\n",
    "print(\"patient_age type:\", type(patient_age))\n",
    "print(\"patient_weight type:\", type(patient_weight))\n",
    "print(\"has_inflammation type:\", type(has_inflammation))"
   ]
  },
  {
   "cell_type": "markdown",
   "id": "9eb6e9ce",
   "metadata": {},
   "source": [
    "## 3. Arithmetic Operations\n",
    "\n",
    "Let's perform some calculations with our patient data:"
   ]
  },
  {
   "cell_type": "code",
   "execution_count": null,
   "id": "c0cac7ea",
   "metadata": {},
   "outputs": [],
   "source": [
    "# Calculate BMI (Body Mass Index)\n",
    "height_meters = 1.75  # Patient height in meters\n",
    "bmi = patient_weight / (height_meters ** 2)\n",
    "\n",
    "print(f\"Patient BMI: {bmi:.2f}\")\n",
    "\n",
    "# Age-related calculations\n",
    "years_to_retirement = 65 - patient_age\n",
    "birth_year = 2024 - patient_age\n",
    "\n",
    "print(f\"Years to retirement: {years_to_retirement}\")\n",
    "print(f\"Approximate birth year: {birth_year}\")"
   ]
  },
  {
   "cell_type": "markdown",
   "id": "a093da38",
   "metadata": {},
   "source": [
    "## 4. String Operations\n",
    "\n",
    "Working with text data is important in scientific computing:"
   ]
  },
  {
   "cell_type": "code",
   "execution_count": null,
   "id": "013af179",
   "metadata": {},
   "outputs": [],
   "source": [
    "# String operations\n",
    "first_name = \"Alice\"\n",
    "last_name = \"Johnson\"\n",
    "full_name = first_name + \" \" + last_name\n",
    "\n",
    "print(\"Full name:\", full_name)\n",
    "print(\"Length of full name:\", len(full_name))\n",
    "print(\"Uppercase:\", full_name.upper())\n",
    "print(\"First name starts with 'A':\", first_name.startswith('A'))\n",
    "\n",
    "# String formatting\n",
    "summary = f\"Patient {patient_id} ({full_name}) is {patient_age} years old.\"\n",
    "print(summary)"
   ]
  },
  {
   "cell_type": "markdown",
   "id": "3f555729",
   "metadata": {},
   "source": [
    "## 5. Boolean Operations and Comparisons\n",
    "\n",
    "Boolean logic is essential for data analysis:"
   ]
  },
  {
   "cell_type": "code",
   "execution_count": null,
   "id": "0f5f3137",
   "metadata": {},
   "outputs": [],
   "source": [
    "# Comparisons\n",
    "is_adult = patient_age >= 18\n",
    "is_senior = patient_age >= 65\n",
    "normal_weight = 18.5 <= bmi <= 24.9\n",
    "\n",
    "print(\"Is adult:\", is_adult)\n",
    "print(\"Is senior:\", is_senior)\n",
    "print(\"Normal weight BMI:\", normal_weight)\n",
    "\n",
    "# Logical operations\n",
    "needs_monitoring = has_inflammation and (is_senior or bmi > 30)\n",
    "print(\"Needs special monitoring:\", needs_monitoring)"
   ]
  },
  {
   "cell_type": "markdown",
   "id": "b2659484",
   "metadata": {},
   "source": [
    "## 6. Working with Inflammation Data\n",
    "\n",
    "Let's simulate some basic inflammation measurements:"
   ]
  },
  {
   "cell_type": "code",
   "execution_count": null,
   "id": "fb2d43e6",
   "metadata": {},
   "outputs": [],
   "source": [
    "# Inflammation readings (arbitrary units)\n",
    "day_1_inflammation = 0.0\n",
    "day_2_inflammation = 1.5\n",
    "day_3_inflammation = 3.2\n",
    "day_4_inflammation = 2.8\n",
    "day_5_inflammation = 1.1\n",
    "\n",
    "# Calculate statistics\n",
    "total_inflammation = (day_1_inflammation + day_2_inflammation + \n",
    "                     day_3_inflammation + day_4_inflammation + day_5_inflammation)\n",
    "average_inflammation = total_inflammation / 5\n",
    "max_inflammation = max(day_1_inflammation, day_2_inflammation, day_3_inflammation, \n",
    "                      day_4_inflammation, day_5_inflammation)\n",
    "\n",
    "print(\"Inflammation Data Summary:\")\n",
    "print(f\"Total inflammation: {total_inflammation:.2f}\")\n",
    "print(f\"Average inflammation: {average_inflammation:.2f}\")\n",
    "print(f\"Maximum inflammation: {max_inflammation:.2f}\")\n",
    "\n",
    "# Determine severity\n",
    "if average_inflammation == 0:\n",
    "    severity = \"None\"\n",
    "elif average_inflammation <= 1:\n",
    "    severity = \"Mild\"\n",
    "elif average_inflammation <= 3:\n",
    "    severity = \"Moderate\"\n",
    "else:\n",
    "    severity = \"Severe\"\n",
    "\n",
    "print(f\"Inflammation severity: {severity}\")"
   ]
  },
  {
   "cell_type": "markdown",
   "id": "5c02f225",
   "metadata": {},
   "source": [
    "### Exercise 1.2\n",
    "Calculate the inflammation trend (is it increasing, decreasing, or stable?) by comparing the first and last day readings:"
   ]
  },
  {
   "cell_type": "code",
   "execution_count": null,
   "id": "5441080e",
   "metadata": {},
   "outputs": [],
   "source": [
    "# Exercise 1.2 - Your code here\n",
    "# Compare day_1_inflammation and day_5_inflammation\n",
    "# Print whether inflammation is \"Increasing\", \"Decreasing\", or \"Stable\""
   ]
  },
  {
   "cell_type": "markdown",
   "id": "e45bd7e4",
   "metadata": {},
   "source": [
    "## Summary\n",
    "\n",
    "In this episode, we covered:\n",
    "- **Variables**: Storing data in named containers\n",
    "- **Data types**: int, float, str, bool\n",
    "- **Arithmetic operations**: +, -, *, /, **, %\n",
    "- **String operations**: concatenation, formatting, methods\n",
    "- **Boolean logic**: comparisons and logical operators\n",
    "- **Comments**: Documenting your code\n",
    "\n",
    "These fundamentals form the foundation for all scientific computing in Python!"
   ]
  }
 ],
 "metadata": {
  "language_info": {
   "name": "python"
  }
 },
 "nbformat": 4,
 "nbformat_minor": 5
}
