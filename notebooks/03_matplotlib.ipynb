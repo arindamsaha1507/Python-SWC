{
 "cells": [
  {
   "cell_type": "markdown",
   "id": "3686d775",
   "metadata": {},
   "source": [
    "# Episode 3: Data Visualization with Matplotlib\n",
    "\n",
    "Visualization is crucial for understanding data patterns. In this notebook, we'll learn how to create informative plots of inflammation data using Matplotlib.\n",
    "\n",
    "## Learning Objectives\n",
    "- Import and configure Matplotlib\n",
    "- Create basic plots (line, scatter, histogram)\n",
    "- Customize plot appearance\n",
    "- Create subplots and multi-panel figures\n",
    "- Save plots to files\n",
    "\n",
    "## Introduction\n",
    "\n",
    "Matplotlib is the most widely used plotting library for Python. It provides fine-grained control over every aspect of your plots."
   ]
  },
  {
   "cell_type": "markdown",
   "id": "d4805f91",
   "metadata": {},
   "source": [
    "## 1. Setting Up Matplotlib\n",
    "\n",
    "Import the necessary libraries and configure for notebook display:"
   ]
  },
  {
   "cell_type": "code",
   "execution_count": null,
   "id": "9ae3672b",
   "metadata": {},
   "outputs": [],
   "source": [
    "import numpy as np\n",
    "import matplotlib.pyplot as plt\n",
    "\n",
    "# Configure matplotlib for notebook display\n",
    "%matplotlib inline\n",
    "plt.style.use('default')  # Use default style\n",
    "\n",
    "# Set figure size default\n",
    "plt.rcParams['figure.figsize'] = [10, 6]\n",
    "\n",
    "print(\"Matplotlib version:\", plt.__version__)"
   ]
  },
  {
   "cell_type": "markdown",
   "id": "b2141f57",
   "metadata": {},
   "source": [
    "## 2. Prepare Sample Data\n",
    "\n",
    "Let's create some inflammation data to visualize:"
   ]
  },
  {
   "cell_type": "code",
   "execution_count": null,
   "id": "6a897303",
   "metadata": {},
   "outputs": [],
   "source": [
    "# Create sample inflammation data\n",
    "np.random.seed(42)  # For reproducible results\n",
    "\n",
    "# Patient data over 40 days\n",
    "days = np.arange(1, 41)\n",
    "patient_1 = np.concatenate([\n",
    "    np.linspace(0, 6, 20),  # Increasing inflammation\n",
    "    np.linspace(6, 0, 20)   # Decreasing inflammation\n",
    "]) + np.random.normal(0, 0.5, 40)  # Add some noise\n",
    "\n",
    "patient_2 = np.concatenate([\n",
    "    np.linspace(0, 4, 15),\n",
    "    np.linspace(4, 8, 10),\n",
    "    np.linspace(8, 0, 15)\n",
    "]) + np.random.normal(0, 0.3, 40)\n",
    "\n",
    "patient_3 = 2 * np.sin(days * np.pi / 20) + 3 + np.random.normal(0, 0.4, 40)\n",
    "\n",
    "# Ensure no negative values\n",
    "patient_1 = np.maximum(patient_1, 0)\n",
    "patient_2 = np.maximum(patient_2, 0)\n",
    "patient_3 = np.maximum(patient_3, 0)\n",
    "\n",
    "print(f\"Data prepared for {len(days)} days and 3 patients\")\n",
    "print(f\"Patient 1 inflammation range: {patient_1.min():.1f} - {patient_1.max():.1f}\")\n",
    "print(f\"Patient 2 inflammation range: {patient_2.min():.1f} - {patient_2.max():.1f}\")\n",
    "print(f\"Patient 3 inflammation range: {patient_3.min():.1f} - {patient_3.max():.1f}\")"
   ]
  },
  {
   "cell_type": "markdown",
   "id": "7afeb39c",
   "metadata": {},
   "source": [
    "## 3. Basic Line Plots\n",
    "\n",
    "Start with simple line plots to show inflammation over time:"
   ]
  },
  {
   "cell_type": "code",
   "execution_count": null,
   "id": "d527e5dd",
   "metadata": {},
   "outputs": [],
   "source": [
    "# Simple line plot\n",
    "plt.figure(figsize=(10, 6))\n",
    "plt.plot(days, patient_1)\n",
    "plt.title('Patient 1 Inflammation Over Time')\n",
    "plt.xlabel('Day')\n",
    "plt.ylabel('Inflammation Level')\n",
    "plt.grid(True, alpha=0.3)\n",
    "plt.show()"
   ]
  },
  {
   "cell_type": "code",
   "execution_count": null,
   "id": "ad52b653",
   "metadata": {},
   "outputs": [],
   "source": [
    "# Multiple patients on one plot\n",
    "plt.figure(figsize=(12, 6))\n",
    "plt.plot(days, patient_1, label='Patient 1', linewidth=2)\n",
    "plt.plot(days, patient_2, label='Patient 2', linewidth=2)\n",
    "plt.plot(days, patient_3, label='Patient 3', linewidth=2)\n",
    "\n",
    "plt.title('Inflammation Levels for Multiple Patients', fontsize=16)\n",
    "plt.xlabel('Day', fontsize=12)\n",
    "plt.ylabel('Inflammation Level', fontsize=12)\n",
    "plt.legend(fontsize=12)\n",
    "plt.grid(True, alpha=0.3)\n",
    "plt.tight_layout()\n",
    "plt.show()"
   ]
  },
  {
   "cell_type": "markdown",
   "id": "42809969",
   "metadata": {},
   "source": [
    "## 4. Customizing Plot Appearance\n",
    "\n",
    "Make plots more informative and visually appealing:"
   ]
  },
  {
   "cell_type": "code",
   "execution_count": null,
   "id": "f3a9b71c",
   "metadata": {},
   "outputs": [],
   "source": [
    "# Customized plot with colors, markers, and styles\n",
    "plt.figure(figsize=(12, 8))\n",
    "\n",
    "plt.plot(days, patient_1, 'b-', label='Patient 1', linewidth=2, marker='o', markersize=4, alpha=0.8)\n",
    "plt.plot(days, patient_2, 'r--', label='Patient 2', linewidth=2, marker='s', markersize=4, alpha=0.8)\n",
    "plt.plot(days, patient_3, 'g:', label='Patient 3', linewidth=3, marker='^', markersize=4, alpha=0.8)\n",
    "\n",
    "plt.title('Inflammation Study Results', fontsize=18, fontweight='bold')\n",
    "plt.xlabel('Day of Treatment', fontsize=14)\n",
    "plt.ylabel('Inflammation Level (arbitrary units)', fontsize=14)\n",
    "\n",
    "# Customize legend\n",
    "plt.legend(loc='upper right', fontsize=12, frameon=True, fancybox=True, shadow=True)\n",
    "\n",
    "# Add grid\n",
    "plt.grid(True, linestyle='-', alpha=0.2)\n",
    "\n",
    "# Set axis limits\n",
    "plt.xlim(0, 42)\n",
    "plt.ylim(-1, 9)\n",
    "\n",
    "# Add horizontal line for reference\n",
    "plt.axhline(y=3, color='black', linestyle='--', alpha=0.5, label='Normal level')\n",
    "\n",
    "plt.tight_layout()\n",
    "plt.show()"
   ]
  },
  {
   "cell_type": "markdown",
   "id": "8fd9423e",
   "metadata": {},
   "source": [
    "### Exercise 3.1\n",
    "Create a plot showing only the first 20 days of data for all patients, with different colors and markers:"
   ]
  },
  {
   "cell_type": "code",
   "execution_count": null,
   "id": "aa24c2ea",
   "metadata": {},
   "outputs": [],
   "source": [
    "# Exercise 3.1 - Your code here"
   ]
  },
  {
   "cell_type": "markdown",
   "id": "1bfc5e31",
   "metadata": {},
   "source": [
    "## 5. Statistical Plots\n",
    "\n",
    "Create plots showing statistical summaries:"
   ]
  },
  {
   "cell_type": "code",
   "execution_count": null,
   "id": "39c291ed",
   "metadata": {},
   "outputs": [],
   "source": [
    "# Calculate daily statistics across all patients\n",
    "all_patients = np.array([patient_1, patient_2, patient_3])\n",
    "daily_mean = np.mean(all_patients, axis=0)\n",
    "daily_std = np.std(all_patients, axis=0)\n",
    "daily_min = np.min(all_patients, axis=0)\n",
    "daily_max = np.max(all_patients, axis=0)\n",
    "\n",
    "# Plot with error bars\n",
    "plt.figure(figsize=(12, 8))\n",
    "\n",
    "# Main line with error bars\n",
    "plt.errorbar(days, daily_mean, yerr=daily_std, \n",
    "             label='Mean ± Std', linewidth=2, capsize=5, capthick=2)\n",
    "\n",
    "# Fill between min and max\n",
    "plt.fill_between(days, daily_min, daily_max, alpha=0.2, label='Min-Max range')\n",
    "\n",
    "plt.title('Daily Inflammation Statistics Across All Patients', fontsize=16)\n",
    "plt.xlabel('Day', fontsize=12)\n",
    "plt.ylabel('Inflammation Level', fontsize=12)\n",
    "plt.legend()\n",
    "plt.grid(True, alpha=0.3)\n",
    "plt.tight_layout()\n",
    "plt.show()"
   ]
  },
  {
   "cell_type": "markdown",
   "id": "e749bd59",
   "metadata": {},
   "source": [
    "## 6. Different Plot Types\n",
    "\n",
    "Explore scatter plots, histograms, and box plots:"
   ]
  },
  {
   "cell_type": "code",
   "execution_count": null,
   "id": "970b8250",
   "metadata": {},
   "outputs": [],
   "source": [
    "# Scatter plot\n",
    "plt.figure(figsize=(10, 6))\n",
    "plt.scatter(patient_1, patient_2, alpha=0.6, s=60, c=days, cmap='viridis')\n",
    "plt.colorbar(label='Day')\n",
    "plt.xlabel('Patient 1 Inflammation')\n",
    "plt.ylabel('Patient 2 Inflammation')\n",
    "plt.title('Patient 1 vs Patient 2 Inflammation Correlation')\n",
    "plt.grid(True, alpha=0.3)\n",
    "plt.tight_layout()\n",
    "plt.show()"
   ]
  },
  {
   "cell_type": "code",
   "execution_count": null,
   "id": "ed0d16d0",
   "metadata": {},
   "outputs": [],
   "source": [
    "# Histograms\n",
    "plt.figure(figsize=(15, 5))\n",
    "\n",
    "# Subplot 1: Individual histograms\n",
    "plt.subplot(1, 3, 1)\n",
    "plt.hist(patient_1, bins=15, alpha=0.7, color='blue', label='Patient 1')\n",
    "plt.hist(patient_2, bins=15, alpha=0.7, color='red', label='Patient 2')\n",
    "plt.hist(patient_3, bins=15, alpha=0.7, color='green', label='Patient 3')\n",
    "plt.xlabel('Inflammation Level')\n",
    "plt.ylabel('Frequency')\n",
    "plt.title('Distribution of Inflammation Levels')\n",
    "plt.legend()\n",
    "\n",
    "# Subplot 2: Stacked histogram\n",
    "plt.subplot(1, 3, 2)\n",
    "plt.hist([patient_1, patient_2, patient_3], bins=15, \n",
    "         stacked=True, label=['Patient 1', 'Patient 2', 'Patient 3'])\n",
    "plt.xlabel('Inflammation Level')\n",
    "plt.ylabel('Frequency')\n",
    "plt.title('Stacked Distribution')\n",
    "plt.legend()\n",
    "\n",
    "# Subplot 3: Box plot\n",
    "plt.subplot(1, 3, 3)\n",
    "plt.boxplot([patient_1, patient_2, patient_3], labels=['Patient 1', 'Patient 2', 'Patient 3'])\n",
    "plt.ylabel('Inflammation Level')\n",
    "plt.title('Box Plot Comparison')\n",
    "plt.xticks(rotation=45)\n",
    "\n",
    "plt.tight_layout()\n",
    "plt.show()"
   ]
  },
  {
   "cell_type": "markdown",
   "id": "52836ea0",
   "metadata": {},
   "source": [
    "## 7. Subplots and Multi-Panel Figures\n",
    "\n",
    "Create complex multi-panel figures for comprehensive analysis:"
   ]
  },
  {
   "cell_type": "code",
   "execution_count": null,
   "id": "ed04d320",
   "metadata": {},
   "outputs": [],
   "source": [
    "# Create a comprehensive 2x2 subplot figure\n",
    "fig, axes = plt.subplots(2, 2, figsize=(15, 12))\n",
    "\n",
    "# Top left: Individual patient data\n",
    "axes[0, 0].plot(days, patient_1, 'b-', label='Patient 1', linewidth=2)\n",
    "axes[0, 0].plot(days, patient_2, 'r-', label='Patient 2', linewidth=2)\n",
    "axes[0, 0].plot(days, patient_3, 'g-', label='Patient 3', linewidth=2)\n",
    "axes[0, 0].set_title('Individual Patient Data')\n",
    "axes[0, 0].set_xlabel('Day')\n",
    "axes[0, 0].set_ylabel('Inflammation Level')\n",
    "axes[0, 0].legend()\n",
    "axes[0, 0].grid(True, alpha=0.3)\n",
    "\n",
    "# Top right: Statistical summary\n",
    "axes[0, 1].errorbar(days, daily_mean, yerr=daily_std, capsize=3)\n",
    "axes[0, 1].fill_between(days, daily_min, daily_max, alpha=0.2)\n",
    "axes[0, 1].set_title('Daily Statistics (Mean ± Std)')\n",
    "axes[0, 1].set_xlabel('Day')\n",
    "axes[0, 1].set_ylabel('Inflammation Level')\n",
    "axes[0, 1].grid(True, alpha=0.3)\n",
    "\n",
    "# Bottom left: Correlation\n",
    "scatter = axes[1, 0].scatter(patient_1, patient_2, c=days, cmap='viridis', alpha=0.6)\n",
    "axes[1, 0].set_title('Patient 1 vs Patient 2 Correlation')\n",
    "axes[1, 0].set_xlabel('Patient 1 Inflammation')\n",
    "axes[1, 0].set_ylabel('Patient 2 Inflammation')\n",
    "axes[1, 0].grid(True, alpha=0.3)\n",
    "plt.colorbar(scatter, ax=axes[1, 0], label='Day')\n",
    "\n",
    "# Bottom right: Distribution\n",
    "axes[1, 1].hist(patient_1, bins=12, alpha=0.7, color='blue', label='Patient 1')\n",
    "axes[1, 1].hist(patient_2, bins=12, alpha=0.7, color='red', label='Patient 2')\n",
    "axes[1, 1].hist(patient_3, bins=12, alpha=0.7, color='green', label='Patient 3')\n",
    "axes[1, 1].set_title('Inflammation Distribution')\n",
    "axes[1, 1].set_xlabel('Inflammation Level')\n",
    "axes[1, 1].set_ylabel('Frequency')\n",
    "axes[1, 1].legend()\n",
    "\n",
    "# Add overall title\n",
    "fig.suptitle('Comprehensive Inflammation Data Analysis', fontsize=16, fontweight='bold')\n",
    "\n",
    "plt.tight_layout()\n",
    "plt.show()"
   ]
  },
  {
   "cell_type": "markdown",
   "id": "7ff76bd9",
   "metadata": {},
   "source": [
    "### Exercise 3.2\n",
    "Create a 1x3 subplot showing:\n",
    "1. Line plot of Patient 1 data\n",
    "2. Bar chart of average inflammation per week (group days 1-7, 8-14, etc.)\n",
    "3. Pie chart showing the proportion of days with low (<2), medium (2-5), and high (>5) inflammation for Patient 1"
   ]
  },
  {
   "cell_type": "code",
   "execution_count": null,
   "id": "edc97508",
   "metadata": {},
   "outputs": [],
   "source": [
    "# Exercise 3.2 - Your code here"
   ]
  },
  {
   "cell_type": "markdown",
   "id": "5850223c",
   "metadata": {},
   "source": [
    "## 8. Advanced Plotting Techniques\n",
    "\n",
    "Learn some advanced visualization techniques:"
   ]
  },
  {
   "cell_type": "code",
   "execution_count": null,
   "id": "f7228c29",
   "metadata": {},
   "outputs": [],
   "source": [
    "# Heatmap of patient data\n",
    "plt.figure(figsize=(12, 4))\n",
    "\n",
    "# Create a 2D array for heatmap (patients × days)\n",
    "heatmap_data = np.array([patient_1, patient_2, patient_3])\n",
    "\n",
    "im = plt.imshow(heatmap_data, cmap='YlOrRd', aspect='auto', interpolation='nearest')\n",
    "plt.colorbar(im, label='Inflammation Level')\n",
    "plt.title('Inflammation Heatmap: Patients vs Days')\n",
    "plt.xlabel('Day')\n",
    "plt.ylabel('Patient')\n",
    "plt.yticks([0, 1, 2], ['Patient 1', 'Patient 2', 'Patient 3'])\n",
    "\n",
    "# Add some day markers\n",
    "plt.xticks(np.arange(0, 40, 10), np.arange(1, 41, 10))\n",
    "plt.tight_layout()\n",
    "plt.show()"
   ]
  },
  {
   "cell_type": "code",
   "execution_count": null,
   "id": "f928e706",
   "metadata": {},
   "outputs": [],
   "source": [
    "# Violin plot for distribution comparison\n",
    "from matplotlib.patches import Polygon\n",
    "\n",
    "plt.figure(figsize=(10, 6))\n",
    "\n",
    "# Create violin plot data\n",
    "data_for_violin = [patient_1, patient_2, patient_3]\n",
    "parts = plt.violinplot(data_for_violin, positions=[1, 2, 3], showmeans=True, showmedians=True)\n",
    "\n",
    "# Customize violin plot\n",
    "colors = ['blue', 'red', 'green']\n",
    "for i, pc in enumerate(parts['bodies']):\n",
    "    pc.set_facecolor(colors[i])\n",
    "    pc.set_alpha(0.7)\n",
    "\n",
    "plt.title('Distribution Comparison: Violin Plot')\n",
    "plt.xlabel('Patient')\n",
    "plt.ylabel('Inflammation Level')\n",
    "plt.xticks([1, 2, 3], ['Patient 1', 'Patient 2', 'Patient 3'])\n",
    "plt.grid(True, alpha=0.3)\n",
    "plt.tight_layout()\n",
    "plt.show()"
   ]
  },
  {
   "cell_type": "markdown",
   "id": "b1bbf84f",
   "metadata": {},
   "source": [
    "## 9. Annotations and Text\n",
    "\n",
    "Add annotations to highlight important features:"
   ]
  },
  {
   "cell_type": "code",
   "execution_count": null,
   "id": "66643b49",
   "metadata": {},
   "outputs": [],
   "source": [
    "# Plot with annotations\n",
    "plt.figure(figsize=(12, 8))\n",
    "\n",
    "plt.plot(days, patient_1, 'b-', linewidth=2, label='Patient 1')\n",
    "\n",
    "# Find and annotate maximum\n",
    "max_day = np.argmax(patient_1)\n",
    "max_value = patient_1[max_day]\n",
    "\n",
    "plt.annotate(f'Peak inflammation\\nDay {max_day+1}: {max_value:.1f}',\n",
    "             xy=(max_day+1, max_value), xytext=(max_day+10, max_value+1),\n",
    "             arrowprops=dict(arrowstyle='->', color='red', lw=2),\n",
    "             fontsize=12, ha='center',\n",
    "             bbox=dict(boxstyle='round,pad=0.3', facecolor='yellow', alpha=0.7))\n",
    "\n",
    "# Add text box with study information\n",
    "textstr = '\\n'.join([\n",
    "    'Study Information:',\n",
    "    f'Duration: {len(days)} days',\n",
    "    f'Mean inflammation: {np.mean(patient_1):.1f}',\n",
    "    f'Std deviation: {np.std(patient_1):.1f}'\n",
    "])\n",
    "props = dict(boxstyle='round', facecolor='wheat', alpha=0.8)\n",
    "plt.text(0.02, 0.98, textstr, transform=plt.gca().transAxes, fontsize=10,\n",
    "         verticalalignment='top', bbox=props)\n",
    "\n",
    "plt.title('Patient 1 Inflammation with Annotations', fontsize=16)\n",
    "plt.xlabel('Day')\n",
    "plt.ylabel('Inflammation Level')\n",
    "plt.grid(True, alpha=0.3)\n",
    "plt.tight_layout()\n",
    "plt.show()"
   ]
  },
  {
   "cell_type": "markdown",
   "id": "a477f68f",
   "metadata": {},
   "source": [
    "## 10. Saving Plots\n",
    "\n",
    "Save your plots in various formats:"
   ]
  },
  {
   "cell_type": "code",
   "execution_count": null,
   "id": "7b1d8dd5",
   "metadata": {},
   "outputs": [],
   "source": [
    "# Create a final summary plot\n",
    "plt.figure(figsize=(12, 8))\n",
    "\n",
    "plt.plot(days, patient_1, 'b-', linewidth=2, label='Patient 1')\n",
    "plt.plot(days, patient_2, 'r-', linewidth=2, label='Patient 2')\n",
    "plt.plot(days, patient_3, 'g-', linewidth=2, label='Patient 3')\n",
    "plt.plot(days, daily_mean, 'k--', linewidth=3, label='Daily Mean')\n",
    "\n",
    "plt.fill_between(days, daily_mean - daily_std, daily_mean + daily_std, \n",
    "                 alpha=0.2, color='gray', label='±1 Std Dev')\n",
    "\n",
    "plt.title('Inflammation Study: Complete Results', fontsize=18, fontweight='bold')\n",
    "plt.xlabel('Day of Treatment', fontsize=14)\n",
    "plt.ylabel('Inflammation Level (arbitrary units)', fontsize=14)\n",
    "plt.legend(loc='upper right', fontsize=12)\n",
    "plt.grid(True, alpha=0.3)\n",
    "\n",
    "# Add study metadata\n",
    "plt.figtext(0.02, 0.02, 'Generated with Python/Matplotlib for Software Carpentry', \n",
    "            fontsize=8, style='italic')\n",
    "\n",
    "plt.tight_layout()\n",
    "\n",
    "# Save in multiple formats\n",
    "plt.savefig('inflammation_study_results.png', dpi=300, bbox_inches='tight')\n",
    "plt.savefig('inflammation_study_results.pdf', bbox_inches='tight')\n",
    "plt.savefig('inflammation_study_results.svg', bbox_inches='tight')\n",
    "\n",
    "plt.show()\n",
    "\n",
    "print(\"Plots saved as:\")\n",
    "print(\"- inflammation_study_results.png (high resolution)\")\n",
    "print(\"- inflammation_study_results.pdf (vector format)\")\n",
    "print(\"- inflammation_study_results.svg (web-friendly vector)\")"
   ]
  },
  {
   "cell_type": "markdown",
   "id": "b0056d85",
   "metadata": {},
   "source": [
    "## Summary\n",
    "\n",
    "In this episode, we learned:\n",
    "- **Basic plotting**: Line plots, scatter plots, histograms\n",
    "- **Customization**: Colors, markers, labels, legends\n",
    "- **Statistical plots**: Error bars, box plots, violin plots\n",
    "- **Subplots**: Multi-panel figures for comprehensive analysis\n",
    "- **Advanced techniques**: Heatmaps, annotations, styling\n",
    "- **File output**: Saving plots in multiple formats\n",
    "\n",
    "Effective visualization is key to understanding and communicating scientific results!"
   ]
  },
  {
   "cell_type": "markdown",
   "id": "71ed5ee2",
   "metadata": {},
   "source": [
    "## Clean up\n",
    "\n",
    "Remove generated files (optional):"
   ]
  },
  {
   "cell_type": "code",
   "execution_count": null,
   "id": "1b594268",
   "metadata": {},
   "outputs": [],
   "source": [
    "import os\n",
    "\n",
    "# List of files to clean up\n",
    "files_to_remove = [\n",
    "    'inflammation_study_results.png',\n",
    "    'inflammation_study_results.pdf',\n",
    "    'inflammation_study_results.svg'\n",
    "]\n",
    "\n",
    "for filename in files_to_remove:\n",
    "    if os.path.exists(filename):\n",
    "        os.remove(filename)\n",
    "        print(f\"Removed {filename}\")\n",
    "    else:\n",
    "        print(f\"{filename} not found\")"
   ]
  }
 ],
 "metadata": {
  "language_info": {
   "name": "python"
  }
 },
 "nbformat": 4,
 "nbformat_minor": 5
}
