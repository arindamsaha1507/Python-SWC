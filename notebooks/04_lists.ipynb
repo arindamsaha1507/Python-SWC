{
 "cells": [
  {
   "cell_type": "markdown",
   "id": "a1417e87",
   "metadata": {},
   "source": [
    "# Episode 4: Lists and Data Structures\n",
    "\n",
    "Lists are one of Python's most versatile data structures. In this notebook, we'll learn how to store, access, and manipulate collections of inflammation data using lists and other data structures.\n",
    "\n",
    "## Learning Objectives\n",
    "- Create and manipulate Python lists\n",
    "- Understand list indexing and slicing\n",
    "- Work with nested lists for multi-dimensional data\n",
    "- Use list methods and operations\n",
    "- Explore tuples, sets, and dictionaries\n",
    "\n",
    "## Introduction\n",
    "\n",
    "While NumPy arrays are excellent for numerical computation, Python's built-in data structures are essential for general data manipulation and when working with mixed data types."
   ]
  },
  {
   "cell_type": "markdown",
   "id": "4dbb109e",
   "metadata": {},
   "source": [
    "## 1. Creating Lists\n",
    "\n",
    "Lists can store multiple items of different types:"
   ]
  },
  {
   "cell_type": "code",
   "execution_count": null,
   "id": "2b3192e1",
   "metadata": {},
   "outputs": [],
   "source": [
    "# Simple lists\n",
    "patient_ids = ['P001', 'P002', 'P003', 'P004', 'P005']\n",
    "ages = [25, 34, 45, 56, 23]\n",
    "inflammation_day1 = [0.0, 1.2, 2.1, 0.5, 1.8]\n",
    "\n",
    "print(\"Patient IDs:\", patient_ids)\n",
    "print(\"Ages:\", ages)\n",
    "print(\"Day 1 inflammation:\", inflammation_day1)\n",
    "print(\"\\nList types:\")\n",
    "print(\"patient_ids type:\", type(patient_ids))\n",
    "print(\"Number of patients:\", len(patient_ids))"
   ]
  },
  {
   "cell_type": "code",
   "execution_count": null,
   "id": "4674e191",
   "metadata": {},
   "outputs": [],
   "source": [
    "# Mixed data types in lists\n",
    "patient_info = ['P001', 25, 70.5, True, 'Alice Johnson']\n",
    "print(\"Mixed patient info:\", patient_info)\n",
    "print(\"ID:\", patient_info[0])\n",
    "print(\"Age:\", patient_info[1])\n",
    "print(\"Weight:\", patient_info[2])\n",
    "print(\"Has inflammation:\", patient_info[3])\n",
    "print(\"Name:\", patient_info[4])"
   ]
  },
  {
   "cell_type": "markdown",
   "id": "ad0f9cd6",
   "metadata": {},
   "source": [
    "## 2. List Indexing and Slicing\n",
    "\n",
    "Access individual elements or ranges of elements:"
   ]
  },
  {
   "cell_type": "code",
   "execution_count": null,
   "id": "729aee59",
   "metadata": {},
   "outputs": [],
   "source": [
    "# Indexing (remember: 0-based!)\n",
    "inflammation_readings = [0.0, 1.5, 3.2, 4.1, 2.8, 1.9, 0.8, 0.0]\n",
    "\n",
    "print(\"All readings:\", inflammation_readings)\n",
    "print(\"First reading (day 0):\", inflammation_readings[0])\n",
    "print(\"Fourth reading (day 3):\", inflammation_readings[3])\n",
    "print(\"Last reading:\", inflammation_readings[-1])\n",
    "print(\"Second to last:\", inflammation_readings[-2])"
   ]
  },
  {
   "cell_type": "code",
   "execution_count": null,
   "id": "fde9f72c",
   "metadata": {},
   "outputs": [],
   "source": [
    "# Slicing\n",
    "print(\"First 3 readings:\", inflammation_readings[:3])\n",
    "print(\"Last 3 readings:\", inflammation_readings[-3:])\n",
    "print(\"Middle readings (days 2-5):\", inflammation_readings[2:6])\n",
    "print(\"Every other reading:\", inflammation_readings[::2])\n",
    "print(\"Readings in reverse:\", inflammation_readings[::-1])"
   ]
  },
  {
   "cell_type": "markdown",
   "id": "e813aa04",
   "metadata": {},
   "source": [
    "### Exercise 4.1\n",
    "Given the patient ages list, extract:\n",
    "1. Ages of the first three patients\n",
    "2. Ages of patients older than 30\n",
    "3. The youngest and oldest patient ages"
   ]
  },
  {
   "cell_type": "code",
   "execution_count": null,
   "id": "fa99b381",
   "metadata": {},
   "outputs": [],
   "source": [
    "# Exercise 4.1 - Your code here\n",
    "ages = [25, 34, 45, 56, 23]\n",
    "# 1. First three patients\n",
    "\n",
    "# 2. Ages > 30 (hint: use a list comprehension or loop)\n",
    "\n",
    "# 3. Youngest and oldest"
   ]
  },
  {
   "cell_type": "markdown",
   "id": "0a6b1fdf",
   "metadata": {},
   "source": [
    "## 3. Modifying Lists\n",
    "\n",
    "Lists are mutable - you can change their contents:"
   ]
  },
  {
   "cell_type": "code",
   "execution_count": null,
   "id": "4fc775c0",
   "metadata": {},
   "outputs": [],
   "source": [
    "# Modifying individual elements\n",
    "inflammation_copy = inflammation_readings.copy()  # Make a copy to preserve original\n",
    "print(\"Original:\", inflammation_copy)\n",
    "\n",
    "inflammation_copy[0] = 0.1  # Correct a measurement error\n",
    "inflammation_copy[-1] = 0.05  # Update final reading\n",
    "print(\"After corrections:\", inflammation_copy)"
   ]
  },
  {
   "cell_type": "code",
   "execution_count": null,
   "id": "f67d0f88",
   "metadata": {},
   "outputs": [],
   "source": [
    "# Adding elements\n",
    "new_readings = [0.0, 1.2, 2.5]\n",
    "print(\"Starting with:\", new_readings)\n",
    "\n",
    "new_readings.append(3.1)  # Add one element\n",
    "print(\"After append:\", new_readings)\n",
    "\n",
    "new_readings.extend([2.8, 1.5, 0.5])  # Add multiple elements\n",
    "print(\"After extend:\", new_readings)\n",
    "\n",
    "new_readings.insert(2, 1.8)  # Insert at specific position\n",
    "print(\"After insert at position 2:\", new_readings)"
   ]
  },
  {
   "cell_type": "code",
   "execution_count": null,
   "id": "605884d0",
   "metadata": {},
   "outputs": [],
   "source": [
    "# Removing elements\n",
    "readings_to_modify = [0.0, 1.2, 999.0, 2.5, 3.1, 2.8]  # 999.0 is an error\n",
    "print(\"With error:\", readings_to_modify)\n",
    "\n",
    "readings_to_modify.remove(999.0)  # Remove specific value\n",
    "print(\"Error removed:\", readings_to_modify)\n",
    "\n",
    "last_reading = readings_to_modify.pop()  # Remove and return last element\n",
    "print(\"Last reading removed:\", last_reading)\n",
    "print(\"Remaining:\", readings_to_modify)\n",
    "\n",
    "del readings_to_modify[1]  # Delete by index\n",
    "print(\"After deleting index 1:\", readings_to_modify)"
   ]
  },
  {
   "cell_type": "markdown",
   "id": "cb8cc174",
   "metadata": {},
   "source": [
    "## 4. List Methods and Operations\n",
    "\n",
    "Useful methods for working with lists:"
   ]
  },
  {
   "cell_type": "code",
   "execution_count": null,
   "id": "b3417e4e",
   "metadata": {},
   "outputs": [],
   "source": [
    "# Statistical operations\n",
    "daily_readings = [2.1, 3.5, 1.8, 4.2, 5.1, 2.8, 1.9]\n",
    "\n",
    "print(\"Daily readings:\", daily_readings)\n",
    "print(\"Length:\", len(daily_readings))\n",
    "print(\"Sum:\", sum(daily_readings))\n",
    "print(\"Average:\", sum(daily_readings) / len(daily_readings))\n",
    "print(\"Minimum:\", min(daily_readings))\n",
    "print(\"Maximum:\", max(daily_readings))\n",
    "print(\"Sorted:\", sorted(daily_readings))\n",
    "print(\"Original (unchanged):\", daily_readings)"
   ]
  },
  {
   "cell_type": "code",
   "execution_count": null,
   "id": "3ac1ebe4",
   "metadata": {},
   "outputs": [],
   "source": [
    "# List methods\n",
    "patient_list = ['Alice', 'Bob', 'Carol', 'David', 'Alice']\n",
    "\n",
    "print(\"Patient list:\", patient_list)\n",
    "print(\"Count of 'Alice':\", patient_list.count('Alice'))\n",
    "print(\"Index of 'Carol':\", patient_list.index('Carol'))\n",
    "\n",
    "# Reverse in place\n",
    "patient_list.reverse()\n",
    "print(\"Reversed:\", patient_list)\n",
    "\n",
    "# Sort in place\n",
    "patient_list.sort()\n",
    "print(\"Sorted:\", patient_list)"
   ]
  },
  {
   "cell_type": "markdown",
   "id": "f3aec919",
   "metadata": {},
   "source": [
    "## 5. List Comprehensions\n",
    "\n",
    "A powerful way to create and transform lists:"
   ]
  },
  {
   "cell_type": "code",
   "execution_count": null,
   "id": "d8a97d31",
   "metadata": {},
   "outputs": [],
   "source": [
    "# Basic list comprehensions\n",
    "celsius_temps = [36.5, 37.2, 38.1, 36.8, 37.5]\n",
    "\n",
    "# Convert to Fahrenheit\n",
    "fahrenheit_temps = [(temp * 9/5) + 32 for temp in celsius_temps]\n",
    "print(\"Celsius:\", celsius_temps)\n",
    "print(\"Fahrenheit:\", fahrenheit_temps)\n",
    "\n",
    "# Square all inflammation readings\n",
    "squared_readings = [reading**2 for reading in daily_readings]\n",
    "print(\"Original readings:\", daily_readings)\n",
    "print(\"Squared readings:\", squared_readings)"
   ]
  },
  {
   "cell_type": "code",
   "execution_count": null,
   "id": "46d4c45a",
   "metadata": {},
   "outputs": [],
   "source": [
    "# Conditional list comprehensions\n",
    "all_ages = [25, 34, 45, 56, 23, 67, 42, 38, 51]\n",
    "\n",
    "# Filter adults only\n",
    "adults = [age for age in all_ages if age >= 18]\n",
    "print(\"All ages:\", all_ages)\n",
    "print(\"Adults (≥18):\", adults)\n",
    "\n",
    "# Filter high inflammation readings\n",
    "all_inflammation = [0.5, 3.2, 1.8, 7.5, 2.1, 8.8, 1.2, 9.3, 4.1]\n",
    "high_inflammation = [reading for reading in all_inflammation if reading > 5.0]\n",
    "print(\"All inflammation:\", all_inflammation)\n",
    "print(\"High inflammation (>5.0):\", high_inflammation)\n",
    "\n",
    "# Transform and filter\n",
    "severe_cases = [reading * 2 for reading in all_inflammation if reading > 7.0]\n",
    "print(\"Severe cases (>7.0) doubled:\", severe_cases)"
   ]
  },
  {
   "cell_type": "markdown",
   "id": "a7a77cbc",
   "metadata": {},
   "source": [
    "### Exercise 4.2\n",
    "Create list comprehensions for:\n",
    "1. Patient IDs that start with 'P' (from a mixed list)\n",
    "2. BMI values from weights and heights\n",
    "3. Categorize inflammation as 'Low', 'Medium', or 'High'"
   ]
  },
  {
   "cell_type": "code",
   "execution_count": null,
   "id": "66bf8565",
   "metadata": {},
   "outputs": [],
   "source": [
    "# Exercise 4.2 - Your code here\n",
    "mixed_ids = ['P001', 'X002', 'P003', 'Y004', 'P005']\n",
    "weights = [70.5, 65.2, 80.1, 55.8, 75.3]  # kg\n",
    "heights = [1.75, 1.62, 1.80, 1.55, 1.78]  # meters\n",
    "inflammation_levels = [1.2, 4.5, 8.2, 2.1, 6.7]\n",
    "\n",
    "# 1. Patient IDs starting with 'P'\n",
    "\n",
    "# 2. BMI values (weight / height²)\n",
    "\n",
    "# 3. Categorize inflammation: <3=Low, 3-6=Medium, >6=High"
   ]
  },
  {
   "cell_type": "markdown",
   "id": "7f59370d",
   "metadata": {},
   "source": [
    "## 6. Nested Lists\n",
    "\n",
    "Lists can contain other lists, useful for multi-dimensional data:"
   ]
  },
  {
   "cell_type": "code",
   "execution_count": null,
   "id": "d44a4a80",
   "metadata": {},
   "outputs": [],
   "source": [
    "# Patient data: each inner list is [id, age, weight, height]\n",
    "patients_data = [\n",
    "    ['P001', 25, 70.5, 1.75],\n",
    "    ['P002', 34, 65.2, 1.62],\n",
    "    ['P003', 45, 80.1, 1.80],\n",
    "    ['P004', 56, 55.8, 1.55],\n",
    "    ['P005', 23, 75.3, 1.78]\n",
    "]\n",
    "\n",
    "print(\"All patient data:\")\n",
    "for patient in patients_data:\n",
    "    print(f\"  {patient}\")\n",
    "\n",
    "print(f\"\\nFirst patient: {patients_data[0]}\")\n",
    "print(f\"First patient ID: {patients_data[0][0]}\")\n",
    "print(f\"Third patient age: {patients_data[2][1]}\")"
   ]
  },
  {
   "cell_type": "code",
   "execution_count": null,
   "id": "57ef2d06",
   "metadata": {},
   "outputs": [],
   "source": [
    "# Inflammation data matrix: patients × days\n",
    "inflammation_matrix = [\n",
    "    [0.0, 1.5, 3.2, 4.1, 2.8, 1.9, 0.8],  # Patient 1\n",
    "    [0.5, 2.1, 3.8, 5.2, 3.1, 2.0, 0.5],  # Patient 2\n",
    "    [0.0, 1.0, 2.5, 3.5, 2.2, 1.5, 0.3]   # Patient 3\n",
    "]\n",
    "\n",
    "print(\"Inflammation matrix:\")\n",
    "for i, patient_data in enumerate(inflammation_matrix):\n",
    "    print(f\"  Patient {i+1}: {patient_data}\")\n",
    "\n",
    "# Calculate statistics\n",
    "print(f\"\\nPatient 1 average: {sum(inflammation_matrix[0]) / len(inflammation_matrix[0]):.2f}\")\n",
    "\n",
    "# Daily averages across all patients\n",
    "num_days = len(inflammation_matrix[0])\n",
    "daily_averages = []\n",
    "for day in range(num_days):\n",
    "    day_sum = sum(patient_data[day] for patient_data in inflammation_matrix)\n",
    "    daily_averages.append(day_sum / len(inflammation_matrix))\n",
    "\n",
    "print(f\"Daily averages: {[f'{avg:.2f}' for avg in daily_averages]}\")"
   ]
  },
  {
   "cell_type": "markdown",
   "id": "26090d0c",
   "metadata": {},
   "source": [
    "## 7. Other Data Structures\n",
    "\n",
    "Python has other useful built-in data structures:"
   ]
  },
  {
   "cell_type": "code",
   "execution_count": null,
   "id": "de43a932",
   "metadata": {},
   "outputs": [],
   "source": [
    "# Tuples - immutable sequences\n",
    "patient_record = ('P001', 'Alice Johnson', 25, 70.5)  # Can't be changed\n",
    "coordinates = (12.5, 34.8)  # Often used for coordinates\n",
    "\n",
    "print(\"Patient record (tuple):\", patient_record)\n",
    "print(\"Patient ID:\", patient_record[0])\n",
    "print(\"Coordinates:\", coordinates)\n",
    "\n",
    "# Tuple unpacking\n",
    "patient_id, name, age, weight = patient_record\n",
    "print(f\"Unpacked: {name} (ID: {patient_id}) is {age} years old\")\n",
    "\n",
    "# Try to modify tuple (this will fail)\n",
    "try:\n",
    "    patient_record[1] = 'Bob Smith'\n",
    "except TypeError as e:\n",
    "    print(f\"Cannot modify tuple: {e}\")"
   ]
  },
  {
   "cell_type": "code",
   "execution_count": null,
   "id": "1b647d16",
   "metadata": {},
   "outputs": [],
   "source": [
    "# Sets - collections of unique elements\n",
    "all_patient_ids = ['P001', 'P002', 'P001', 'P003', 'P002', 'P004', 'P001']\n",
    "unique_patients = set(all_patient_ids)\n",
    "\n",
    "print(\"All patient IDs:\", all_patient_ids)\n",
    "print(\"Unique patients:\", unique_patients)\n",
    "print(\"Number of unique patients:\", len(unique_patients))\n",
    "\n",
    "# Set operations\n",
    "group_a = {'P001', 'P002', 'P003'}\n",
    "group_b = {'P003', 'P004', 'P005'}\n",
    "\n",
    "print(f\"Group A: {group_a}\")\n",
    "print(f\"Group B: {group_b}\")\n",
    "print(f\"Intersection (both groups): {group_a & group_b}\")\n",
    "print(f\"Union (either group): {group_a | group_b}\")\n",
    "print(f\"Difference (A but not B): {group_a - group_b}\")"
   ]
  },
  {
   "cell_type": "code",
   "execution_count": null,
   "id": "18c3ee74",
   "metadata": {},
   "outputs": [],
   "source": [
    "# Dictionaries - key-value pairs\n",
    "patient_data = {\n",
    "    'id': 'P001',\n",
    "    'name': 'Alice Johnson',\n",
    "    'age': 25,\n",
    "    'weight': 70.5,\n",
    "    'height': 1.75,\n",
    "    'inflammation_readings': [0.0, 1.5, 3.2, 4.1, 2.8]\n",
    "}\n",
    "\n",
    "print(\"Patient data dictionary:\")\n",
    "for key, value in patient_data.items():\n",
    "    print(f\"  {key}: {value}\")\n",
    "\n",
    "print(f\"\\nPatient name: {patient_data['name']}\")\n",
    "print(f\"Average inflammation: {sum(patient_data['inflammation_readings']) / len(patient_data['inflammation_readings']):.2f}\")\n",
    "\n",
    "# Calculate BMI\n",
    "bmi = patient_data['weight'] / (patient_data['height'] ** 2)\n",
    "patient_data['bmi'] = round(bmi, 1)  # Add new key-value pair\n",
    "print(f\"BMI added: {patient_data['bmi']}\")"
   ]
  },
  {
   "cell_type": "code",
   "execution_count": null,
   "id": "609835ce",
   "metadata": {},
   "outputs": [],
   "source": [
    "# Multiple patients as dictionary\n",
    "study_data = {\n",
    "    'P001': {'name': 'Alice', 'age': 25, 'readings': [1.5, 2.0, 1.8]},\n",
    "    'P002': {'name': 'Bob', 'age': 34, 'readings': [2.1, 3.5, 2.8]},\n",
    "    'P003': {'name': 'Carol', 'age': 45, 'readings': [1.0, 1.5, 1.2]}\n",
    "}\n",
    "\n",
    "print(\"Study data:\")\n",
    "for patient_id, data in study_data.items():\n",
    "    avg_inflammation = sum(data['readings']) / len(data['readings'])\n",
    "    print(f\"{patient_id}: {data['name']} (age {data['age']}) - avg inflammation: {avg_inflammation:.2f}\")\n",
    "\n",
    "# Access specific patient\n",
    "print(f\"\\nPatient P002 readings: {study_data['P002']['readings']}\")"
   ]
  },
  {
   "cell_type": "markdown",
   "id": "131ee27f",
   "metadata": {},
   "source": [
    "### Exercise 4.3\n",
    "Create a comprehensive data structure for a small study:\n",
    "1. Use a dictionary to store patient information\n",
    "2. Include lists for daily measurements\n",
    "3. Calculate summary statistics for each patient"
   ]
  },
  {
   "cell_type": "code",
   "execution_count": null,
   "id": "3b12c34a",
   "metadata": {},
   "outputs": [],
   "source": [
    "# Exercise 4.3 - Your code here\n",
    "# Create a study with 3 patients, each with:\n",
    "# - Patient info (name, age, group)\n",
    "# - 7 days of inflammation readings\n",
    "# - Calculate: average, min, max, trend (increasing/decreasing)"
   ]
  },
  {
   "cell_type": "markdown",
   "id": "23b20a1d",
   "metadata": {},
   "source": [
    "## 8. When to Use Which Data Structure\n",
    "\n",
    "Guidelines for choosing the right data structure:"
   ]
  },
  {
   "cell_type": "code",
   "execution_count": null,
   "id": "2321f006",
   "metadata": {},
   "outputs": [],
   "source": [
    "# Comparison of data structures\n",
    "print(\"Data Structure Usage Guidelines:\")\n",
    "print(\"\")\n",
    "print(\"📝 LISTS - Use when:\")\n",
    "print(\"  • You need ordered, mutable sequences\")\n",
    "print(\"  • You need to modify elements frequently\")\n",
    "print(\"  • You need to append/remove elements\")\n",
    "print(\"  • Example: daily measurements, patient records\")\n",
    "print(\"\")\n",
    "print(\"🔒 TUPLES - Use when:\")\n",
    "print(\"  • You need immutable sequences\")\n",
    "print(\"  • You want to prevent accidental modification\")\n",
    "print(\"  • You need hashable objects (for dict keys)\")\n",
    "print(\"  • Example: coordinates, patient ID + name\")\n",
    "print(\"\")\n",
    "print(\"🎯 SETS - Use when:\")\n",
    "print(\"  • You need unique elements only\")\n",
    "print(\"  • You need fast membership testing\")\n",
    "print(\"  • You need set operations (union, intersection)\")\n",
    "print(\"  • Example: unique patient IDs, drug allergies\")\n",
    "print(\"\")\n",
    "print(\"🗂️ DICTIONARIES - Use when:\")\n",
    "print(\"  • You need key-value associations\")\n",
    "print(\"  • You need fast lookups by key\")\n",
    "print(\"  • You need structured data\")\n",
    "print(\"  • Example: patient records, configuration settings\")"
   ]
  },
  {
   "cell_type": "markdown",
   "id": "70b505bb",
   "metadata": {},
   "source": [
    "## Summary\n",
    "\n",
    "In this episode, we learned:\n",
    "- **Lists**: Mutable, ordered sequences for collections of data\n",
    "- **Indexing and slicing**: Accessing specific elements and ranges\n",
    "- **List methods**: append, extend, remove, sort, etc.\n",
    "- **List comprehensions**: Elegant way to create and transform lists\n",
    "- **Nested lists**: Multi-dimensional data structures\n",
    "- **Other structures**: Tuples, sets, and dictionaries\n",
    "- **When to use what**: Guidelines for choosing data structures\n",
    "\n",
    "Understanding these data structures is fundamental to effective Python programming!"
   ]
  }
 ],
 "metadata": {
  "language_info": {
   "name": "python"
  }
 },
 "nbformat": 4,
 "nbformat_minor": 5
}
